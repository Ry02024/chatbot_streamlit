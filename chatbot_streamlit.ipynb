{
  "nbformat": 4,
  "nbformat_minor": 0,
  "metadata": {
    "colab": {
      "provenance": [],
      "toc_visible": true,
      "authorship_tag": "ABX9TyOhgABAMLgEks+SyoVxu1El",
      "include_colab_link": true
    },
    "kernelspec": {
      "name": "python3",
      "display_name": "Python 3"
    },
    "language_info": {
      "name": "python"
    }
  },
  "cells": [
    {
      "cell_type": "markdown",
      "metadata": {
        "id": "view-in-github",
        "colab_type": "text"
      },
      "source": [
        "<a href=\"https://colab.research.google.com/github/Ry02024/chatbot_streamlit/blob/main/chatbot_streamlit.ipynb\" target=\"_parent\"><img src=\"https://colab.research.google.com/assets/colab-badge.svg\" alt=\"Open In Colab\"/></a>"
      ]
    },
    {
      "cell_type": "markdown",
      "metadata": {
        "id": "J-_6DGDfXu0X"
      },
      "source": [
        "## 初期設定"
      ]
    },
    {
      "cell_type": "code",
      "execution_count": 2,
      "metadata": {
        "colab": {
          "base_uri": "https://localhost:8080/"
        },
        "outputId": "18735b82-88cc-4bd7-8d6b-0dd768f5a87f",
        "id": "5M9e67clXu0X"
      },
      "outputs": [
        {
          "output_type": "stream",
          "name": "stdout",
          "text": [
            "Mounted at /content/drive\n"
          ]
        }
      ],
      "source": [
        "from google.colab import drive\n",
        "drive.mount('/content/drive')"
      ]
    },
    {
      "cell_type": "markdown",
      "metadata": {
        "id": "RGptqrQZXu0X"
      },
      "source": [
        "## 環境構築"
      ]
    },
    {
      "cell_type": "code",
      "execution_count": 3,
      "metadata": {
        "colab": {
          "base_uri": "https://localhost:8080/"
        },
        "outputId": "bc53d9da-291b-403a-94b7-4a23eb3cd00f",
        "id": "3SadEvuLXu0X"
      },
      "outputs": [
        {
          "output_type": "stream",
          "name": "stdout",
          "text": [
            "\u001b[2K     \u001b[90m━━━━━━━━━━━━━━━━━━━━━━━━━━━━━━━━━━━━━━━━\u001b[0m \u001b[32m44.3/44.3 kB\u001b[0m \u001b[31m2.5 MB/s\u001b[0m eta \u001b[36m0:00:00\u001b[0m\n",
            "\u001b[2K   \u001b[90m━━━━━━━━━━━━━━━━━━━━━━━━━━━━━━━━━━━━━━━━\u001b[0m \u001b[32m8.6/8.6 MB\u001b[0m \u001b[31m75.5 MB/s\u001b[0m eta \u001b[36m0:00:00\u001b[0m\n",
            "\u001b[2K   \u001b[90m━━━━━━━━━━━━━━━━━━━━━━━━━━━━━━━━━━━━━━━━\u001b[0m \u001b[32m6.9/6.9 MB\u001b[0m \u001b[31m91.2 MB/s\u001b[0m eta \u001b[36m0:00:00\u001b[0m\n",
            "\u001b[2K   \u001b[90m━━━━━━━━━━━━━━━━━━━━━━━━━━━━━━━━━━━━━━━━\u001b[0m \u001b[32m79.1/79.1 kB\u001b[0m \u001b[31m6.1 MB/s\u001b[0m eta \u001b[36m0:00:00\u001b[0m\n",
            "\u001b[?25h"
          ]
        }
      ],
      "source": [
        "!pip install streamlit -q\n",
        "!pip install pyngrok -q"
      ]
    },
    {
      "cell_type": "code",
      "execution_count": 6,
      "metadata": {
        "id": "st53iTM3Xu0X"
      },
      "outputs": [],
      "source": [
        "import streamlit as st\n",
        "from pyngrok import ngrok"
      ]
    },
    {
      "cell_type": "code",
      "execution_count": 7,
      "metadata": {
        "id": "RtVlBNcpXu0X"
      },
      "outputs": [],
      "source": [
        "from google.colab import userdata\n",
        "NGROK_AUTH_TOKEN = userdata.get('NGROK_AUTH_TOKEN')"
      ]
    },
    {
      "cell_type": "code",
      "execution_count": 8,
      "metadata": {
        "colab": {
          "base_uri": "https://localhost:8080/"
        },
        "outputId": "87580297-ba17-4a8a-8a01-76d827bbaac7",
        "id": "h58c8bqOXu0Y"
      },
      "outputs": [
        {
          "output_type": "stream",
          "name": "stdout",
          "text": []
        }
      ],
      "source": [
        "from pyngrok import ngrok\n",
        "import os\n",
        "\n",
        "# ngrokトークンを設定\n",
        "ngrok.set_auth_token(NGROK_AUTH_TOKEN)"
      ]
    },
    {
      "cell_type": "code",
      "execution_count": null,
      "metadata": {
        "id": "hDyoZmFVXu0Y"
      },
      "outputs": [],
      "source": [
        "import os\n",
        "\n",
        "# Streamlit設定ファイルのディレクトリを作成\n",
        "os.makedirs('/root/.streamlit', exist_ok=True)\n",
        "\n",
        "# config.tomlファイルを作成して最大アップロードサイズを設定\n",
        "with open('/root/.streamlit/config.toml', 'w') as f:\n",
        "    f.write(\"\"\"\n",
        "[server]\n",
        "maxUploadSize = 1024\n",
        "\"\"\")"
      ]
    },
    {
      "cell_type": "markdown",
      "source": [
        "# 実行ファイル"
      ],
      "metadata": {
        "id": "JjndsXhKzI5X"
      }
    },
    {
      "cell_type": "code",
      "execution_count": 37,
      "metadata": {
        "colab": {
          "base_uri": "https://localhost:8080/"
        },
        "id": "Q-Cp3TYDtzs-",
        "outputId": "0c3094b0-714b-4c01-b69b-aa7a9cc69098"
      },
      "outputs": [
        {
          "output_type": "stream",
          "name": "stdout",
          "text": [
            "Overwriting streamlit_app.py\n"
          ]
        }
      ],
      "source": [
        "%%writefile streamlit_app.py\n",
        "import streamlit as st\n",
        "import google.generativeai as genai\n",
        "\n",
        "# タイトルと説明の表示\n",
        "st.title(\"💬 Gemini Chatbot\")\n",
        "st.write(\n",
        "    \"This is a chatbot using Google's Gemini API. Please provide your API key to start.\"\n",
        ")\n",
        "\n",
        "# Gemini APIキーの入力\n",
        "gemini_api_key = st.text_input(\"Gemini API Key\", type=\"password\")\n",
        "\n",
        "# セッションの初期化\n",
        "if \"messages\" not in st.session_state:\n",
        "    st.session_state.messages = []\n",
        "\n",
        "# APIキーが入力された場合の処理\n",
        "if gemini_api_key:\n",
        "    try:\n",
        "        # Geminiクライアントの設定\n",
        "        genai.configure(api_key=gemini_api_key)\n",
        "\n",
        "        # モデルの定義\n",
        "        model = genai.GenerativeModel(model_name='gemini-1.5-pro')\n",
        "\n",
        "        # チャット履歴の表示\n",
        "        st.subheader(\"Chat History\")\n",
        "        for message in st.session_state.messages:\n",
        "            with st.chat_message(message[\"role\"]):\n",
        "                st.markdown(message[\"content\"])\n",
        "\n",
        "        # ユーザー入力\n",
        "        prompt = st.chat_input(\"Enter your message:\")\n",
        "        if prompt:\n",
        "            # ユーザーのメッセージを保存\n",
        "            st.session_state.messages.append({\"role\": \"user\", \"content\": prompt})\n",
        "            with st.chat_message(\"user\"):\n",
        "                st.markdown(prompt)\n",
        "\n",
        "            # Gemini APIを使用して応答を生成\n",
        "            try:\n",
        "                response = model.generate_content(contents=[prompt])\n",
        "                assistant_reply = response.text  # 応答を取得\n",
        "\n",
        "                # 応答を保存\n",
        "                st.session_state.messages.append({\"role\": \"assistant\", \"content\": assistant_reply})\n",
        "\n",
        "                # 応答の表示\n",
        "                with st.chat_message(\"assistant\"):\n",
        "                    st.markdown(assistant_reply)\n",
        "\n",
        "            except Exception as e:\n",
        "                st.error(f\"Error occurred while generating response: {e}\")\n",
        "\n",
        "    except Exception as e:\n",
        "        st.error(f\"Failed to configure the Gemini API: {e}\")\n",
        "else:\n",
        "    st.info(\"Please provide your Gemini API key to start the chatbot.\", icon=\"🗝️\")\n"
      ]
    },
    {
      "cell_type": "markdown",
      "metadata": {
        "id": "J046CJhRXu0Y"
      },
      "source": [
        "#アプリの起動"
      ]
    },
    {
      "cell_type": "code",
      "execution_count": 38,
      "metadata": {
        "colab": {
          "base_uri": "https://localhost:8080/"
        },
        "outputId": "ddc7cf03-6547-4890-c557-dc1fead1e986",
        "id": "LYS-cgibXu0Y"
      },
      "outputs": [
        {
          "output_type": "stream",
          "name": "stdout",
          "text": [
            "Public URL: NgrokTunnel: \"https://ef7a-34-85-175-190.ngrok-free.app\" -> \"http://localhost:8501\"\n"
          ]
        }
      ],
      "source": [
        "# ngrokを介してStreamlitを公開\n",
        "public_url = ngrok.connect(addr='8501')\n",
        "print('Public URL:', public_url)"
      ]
    },
    {
      "cell_type": "code",
      "source": [
        "# Streamlitアプリケーションの起動\n",
        "!streamlit run streamlit_app.py >/dev/null"
      ],
      "metadata": {
        "id": "s4Cz3FY9Xu0Y"
      },
      "execution_count": 39,
      "outputs": []
    }
  ]
}